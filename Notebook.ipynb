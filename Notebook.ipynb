{
 "cells": [
  {
   "cell_type": "markdown",
   "id": "b5025185",
   "metadata": {},
   "source": [
    "# Hypothesis\n",
    "\n",
    "Phishing websites have unique features and patterns that can allow a model to distinguish and classify them from legitimate websites. My goal is to demonstrate that a supervised model can be trained to achieve this with relative ease.\n",
    "\n",
    "## Data Source\n",
    "\n",
    "- **Phishing Websites Dataset**  \n",
    "    [Phishing Websites](https://archive.ics.uci.edu/dataset/327/phishing+websites)  \n",
    "    Mohammad, R. & McCluskey, L. (2012). *Phishing Websites [Dataset]*. UCI Machine Learning Repository. [https://doi.org/10.24432/C51W2X](https://www.semanticscholar.org/paper/An-assessment-of-features-related-to-phishing-using-Mohammad-Thabtah/0c0ff58063f4e078714ea74f112bc709ba9fed06).\n",
    "\n",
    "- **PhiUSIIL Phishing URL (Website) Dataset**  \n",
    "    [PhiUSIIL Phishing URL Dataset](https://archive.ics.uci.edu/dataset/967/phiusiil+phishing+url+dataset)  \n",
    "    Prasad, A. & Chandra, S. (2024). *PhiUSIIL Phishing URL (Website) [Dataset]*. UCI Machine Learning Repository. [https://doi.org/10.1016/j.cose.2023.103545](https://doi.org/10.1016/j.cose.2023.103545)."
   ]
  },
  {
   "cell_type": "markdown",
   "id": "32919fdc",
   "metadata": {},
   "source": [
    "# Process Overview\n",
    "\n",
    "1. **Model Creation**  \n",
    "    I will design and implement my own supervised machine learning model to classify phishing websites. The model will be trained using the datasets mentioned above.\n",
    "\n",
    "2. **Outcome Analysis**  \n",
    "    After training the model, I will analyze its performance using appropriate evaluation metrics such as accuracy, precision, recall, and F1-score. Visualizations will also be used to better understand the model's predictions.\n",
    "\n",
    "3. **Comparison with Published Results**  \n",
    "    The performance of my model will be compared with the predictions and results reported in the two referenced papers:\n",
    "    - *Phishing Websites Dataset* by Mohammad & McCluskey (2012)\n",
    "    - *PhiUSIIL Phishing URL Dataset* by Prasad & Chandra (2024)\n",
    "\n",
    "    This comparison will help assess the effectiveness of my model and identify areas for improvement."
   ]
  },
  {
   "cell_type": "code",
   "execution_count": null,
   "id": "464a74eb",
   "metadata": {},
   "outputs": [
    {
     "name": "stdout",
     "output_type": "stream",
     "text": [
      "Requirement already satisfied: ucimlrepo in /Users/ratul/enter/envs/DS_Env/lib/python3.11/site-packages (0.0.7)\n",
      "Requirement already satisfied: pandas>=1.0.0 in /Users/ratul/enter/envs/DS_Env/lib/python3.11/site-packages (from ucimlrepo) (2.2.2)\n",
      "Requirement already satisfied: certifi>=2020.12.5 in /Users/ratul/enter/envs/DS_Env/lib/python3.11/site-packages (from ucimlrepo) (2025.1.31)\n",
      "Requirement already satisfied: numpy>=1.23.2 in /Users/ratul/enter/envs/DS_Env/lib/python3.11/site-packages (from pandas>=1.0.0->ucimlrepo) (1.26.4)\n",
      "Requirement already satisfied: python-dateutil>=2.8.2 in /Users/ratul/enter/envs/DS_Env/lib/python3.11/site-packages (from pandas>=1.0.0->ucimlrepo) (2.9.0)\n",
      "Requirement already satisfied: pytz>=2020.1 in /Users/ratul/enter/envs/DS_Env/lib/python3.11/site-packages (from pandas>=1.0.0->ucimlrepo) (2024.1)\n",
      "Requirement already satisfied: tzdata>=2022.7 in /Users/ratul/enter/envs/DS_Env/lib/python3.11/site-packages (from pandas>=1.0.0->ucimlrepo) (2023.3)\n",
      "Requirement already satisfied: six>=1.5 in /Users/ratul/enter/envs/DS_Env/lib/python3.11/site-packages (from python-dateutil>=2.8.2->pandas>=1.0.0->ucimlrepo) (1.16.0)\n"
     ]
    }
   ],
   "source": [
    "\n",
    "#package to add ucimlrepo to the python path\n",
    "\n",
    "# !pip install ucimlrepo\n"
   ]
  },
  {
   "cell_type": "code",
   "execution_count": null,
   "id": "71ed98d3",
   "metadata": {},
   "outputs": [],
   "source": [
    "from ucimlrepo import fetch_ucirepo \n",
    "  \n",
    "# fetch dataset \n",
    "phishing_websites = fetch_ucirepo(id=327) \n",
    "\n",
    "# fetch dataset \n",
    "phiusiil_phishing_url_website = fetch_ucirepo(id=967) \n",
    "    \n"
   ]
  },
  {
   "cell_type": "markdown",
   "id": "399cd7d6",
   "metadata": {},
   "source": [
    "## Data Exploration"
   ]
  },
  {
   "cell_type": "code",
   "execution_count": 27,
   "id": "00cf1e7f",
   "metadata": {},
   "outputs": [
    {
     "name": "stdout",
     "output_type": "stream",
     "text": [
      "{'uci_id': 967, 'name': 'PhiUSIIL Phishing URL (Website)', 'repository_url': 'https://archive.ics.uci.edu/dataset/967/phiusiil+phishing+url+dataset', 'data_url': 'https://archive.ics.uci.edu/static/public/967/data.csv', 'abstract': 'PhiUSIIL Phishing URL Dataset is a substantial dataset comprising 134,850 legitimate and 100,945 phishing URLs. Most of the URLs we analyzed, while constructing the dataset, are the latest URLs. Features are extracted from the source code of the webpage and URL. Features such as CharContinuationRate, URLTitleMatchScore, URLCharProb, and TLDLegitimateProb are derived from existing features.', 'area': 'Computer Science', 'tasks': ['Classification'], 'characteristics': ['Tabular'], 'num_instances': 235795, 'num_features': 54, 'feature_types': ['Real', 'Categorical', 'Integer'], 'demographics': [], 'target_col': ['label'], 'index_col': None, 'has_missing_values': 'no', 'missing_values_symbol': None, 'year_of_dataset_creation': 2024, 'last_updated': 'Sun May 12 2024', 'dataset_doi': 'https://doi.org/10.1016/j.cose.2023.103545', 'creators': ['Arvind Prasad', 'Shalini Chandra'], 'intro_paper': {'ID': 411, 'type': 'NATIVE', 'title': 'PhiUSIIL: A diverse security profile empowered phishing URL detection framework based on similarity index and incremental learning', 'authors': 'Arvind Prasad and Shalini Chandra', 'venue': 'Computers & Security', 'year': 2024, 'journal': None, 'DOI': None, 'URL': 'https://doi.org/10.1016/j.cose.2023.103545', 'sha': None, 'corpus': None, 'arxiv': None, 'mag': None, 'acl': None, 'pmid': None, 'pmcid': None}, 'additional_info': {'summary': None, 'purpose': None, 'funded_by': None, 'instances_represent': 'URLs and their corresponding webpages', 'recommended_data_splits': None, 'sensitive_data': None, 'preprocessing_description': None, 'variable_info': 'Column \"FILENAME\" can be ignored.', 'citation': 'Prasad, A., & Chandra, S. (2023). PhiUSIIL: A diverse security profile empowered phishing URL detection framework based on similarity index and incremental learning. Computers & Security, 103545. doi: https://doi.org/10.1016/j.cose.2023.103545'}}\n",
      "Index(['URL', 'URLLength', 'Domain', 'DomainLength', 'IsDomainIP', 'TLD',\n",
      "       'URLSimilarityIndex', 'CharContinuationRate', 'TLDLegitimateProb',\n",
      "       'URLCharProb', 'TLDLength', 'NoOfSubDomain', 'HasObfuscation',\n",
      "       'NoOfObfuscatedChar', 'ObfuscationRatio', 'NoOfLettersInURL',\n",
      "       'LetterRatioInURL', 'NoOfDegitsInURL', 'DegitRatioInURL',\n",
      "       'NoOfEqualsInURL', 'NoOfQMarkInURL', 'NoOfAmpersandInURL',\n",
      "       'NoOfOtherSpecialCharsInURL', 'SpacialCharRatioInURL', 'IsHTTPS',\n",
      "       'LineOfCode', 'LargestLineLength', 'HasTitle', 'Title',\n",
      "       'DomainTitleMatchScore', 'URLTitleMatchScore', 'HasFavicon', 'Robots',\n",
      "       'IsResponsive', 'NoOfURLRedirect', 'NoOfSelfRedirect', 'HasDescription',\n",
      "       'NoOfPopup', 'NoOfiFrame', 'HasExternalFormSubmit', 'HasSocialNet',\n",
      "       'HasSubmitButton', 'HasHiddenFields', 'HasPasswordField', 'Bank', 'Pay',\n",
      "       'Crypto', 'HasCopyrightInfo', 'NoOfImage', 'NoOfCSS', 'NoOfJS',\n",
      "       'NoOfSelfRef', 'NoOfEmptyRef', 'NoOfExternalRef'],\n",
      "      dtype='object')\n",
      "Number of rows in X1: 235795\n",
      "Number of rows in y1: 235795\n"
     ]
    }
   ],
   "source": [
    "# data (as pandas dataframes) \n",
    "X1 = phiusiil_phishing_url_website.data.features \n",
    "y1 = phiusiil_phishing_url_website.data.targets \n",
    "  \n",
    "# metadata \n",
    "print(phiusiil_phishing_url_website.metadata) \n",
    "  \n",
    "# variable information \n",
    "print(X1.columns)\n",
    "\n",
    "print(f\"Number of rows in X1: {len(X1)}\")\n",
    "print(f\"Number of rows in y1: {len(y1)}\")"
   ]
  },
  {
   "cell_type": "code",
   "execution_count": 37,
   "id": "9be18104",
   "metadata": {},
   "outputs": [
    {
     "name": "stdout",
     "output_type": "stream",
     "text": [
      "[1 0]\n"
     ]
    }
   ],
   "source": [
    "print(y1['label'].unique())"
   ]
  },
  {
   "cell_type": "markdown",
   "id": "0c9a1d90",
   "metadata": {},
   "source": [
    "## Targets \n",
    "    1 = legitimate\n",
    "    2 = phishing URL"
   ]
  },
  {
   "cell_type": "code",
   "execution_count": 36,
   "id": "fc07e1f1",
   "metadata": {},
   "outputs": [
    {
     "data": {
      "application/vnd.microsoft.datawrangler.viewer.v0+json": {
       "columns": [
        {
         "name": "index",
         "rawType": "int64",
         "type": "integer"
        },
        {
         "name": "URL",
         "rawType": "object",
         "type": "string"
        },
        {
         "name": "URLLength",
         "rawType": "int64",
         "type": "integer"
        },
        {
         "name": "Domain",
         "rawType": "object",
         "type": "string"
        },
        {
         "name": "DomainLength",
         "rawType": "int64",
         "type": "integer"
        },
        {
         "name": "IsDomainIP",
         "rawType": "int64",
         "type": "integer"
        },
        {
         "name": "TLD",
         "rawType": "object",
         "type": "string"
        },
        {
         "name": "URLSimilarityIndex",
         "rawType": "float64",
         "type": "float"
        },
        {
         "name": "CharContinuationRate",
         "rawType": "float64",
         "type": "float"
        },
        {
         "name": "TLDLegitimateProb",
         "rawType": "float64",
         "type": "float"
        },
        {
         "name": "URLCharProb",
         "rawType": "float64",
         "type": "float"
        },
        {
         "name": "TLDLength",
         "rawType": "int64",
         "type": "integer"
        },
        {
         "name": "NoOfSubDomain",
         "rawType": "int64",
         "type": "integer"
        },
        {
         "name": "HasObfuscation",
         "rawType": "int64",
         "type": "integer"
        },
        {
         "name": "NoOfObfuscatedChar",
         "rawType": "int64",
         "type": "integer"
        },
        {
         "name": "ObfuscationRatio",
         "rawType": "float64",
         "type": "float"
        },
        {
         "name": "NoOfLettersInURL",
         "rawType": "int64",
         "type": "integer"
        },
        {
         "name": "LetterRatioInURL",
         "rawType": "float64",
         "type": "float"
        },
        {
         "name": "NoOfDegitsInURL",
         "rawType": "int64",
         "type": "integer"
        },
        {
         "name": "DegitRatioInURL",
         "rawType": "float64",
         "type": "float"
        },
        {
         "name": "NoOfEqualsInURL",
         "rawType": "int64",
         "type": "integer"
        },
        {
         "name": "NoOfQMarkInURL",
         "rawType": "int64",
         "type": "integer"
        },
        {
         "name": "NoOfAmpersandInURL",
         "rawType": "int64",
         "type": "integer"
        },
        {
         "name": "NoOfOtherSpecialCharsInURL",
         "rawType": "int64",
         "type": "integer"
        },
        {
         "name": "SpacialCharRatioInURL",
         "rawType": "float64",
         "type": "float"
        },
        {
         "name": "IsHTTPS",
         "rawType": "int64",
         "type": "integer"
        },
        {
         "name": "LineOfCode",
         "rawType": "int64",
         "type": "integer"
        },
        {
         "name": "LargestLineLength",
         "rawType": "int64",
         "type": "integer"
        },
        {
         "name": "HasTitle",
         "rawType": "int64",
         "type": "integer"
        },
        {
         "name": "Title",
         "rawType": "object",
         "type": "string"
        },
        {
         "name": "DomainTitleMatchScore",
         "rawType": "float64",
         "type": "float"
        },
        {
         "name": "URLTitleMatchScore",
         "rawType": "float64",
         "type": "float"
        },
        {
         "name": "HasFavicon",
         "rawType": "int64",
         "type": "integer"
        },
        {
         "name": "Robots",
         "rawType": "int64",
         "type": "integer"
        },
        {
         "name": "IsResponsive",
         "rawType": "int64",
         "type": "integer"
        },
        {
         "name": "NoOfURLRedirect",
         "rawType": "int64",
         "type": "integer"
        },
        {
         "name": "NoOfSelfRedirect",
         "rawType": "int64",
         "type": "integer"
        },
        {
         "name": "HasDescription",
         "rawType": "int64",
         "type": "integer"
        },
        {
         "name": "NoOfPopup",
         "rawType": "int64",
         "type": "integer"
        },
        {
         "name": "NoOfiFrame",
         "rawType": "int64",
         "type": "integer"
        },
        {
         "name": "HasExternalFormSubmit",
         "rawType": "int64",
         "type": "integer"
        },
        {
         "name": "HasSocialNet",
         "rawType": "int64",
         "type": "integer"
        },
        {
         "name": "HasSubmitButton",
         "rawType": "int64",
         "type": "integer"
        },
        {
         "name": "HasHiddenFields",
         "rawType": "int64",
         "type": "integer"
        },
        {
         "name": "HasPasswordField",
         "rawType": "int64",
         "type": "integer"
        },
        {
         "name": "Bank",
         "rawType": "int64",
         "type": "integer"
        },
        {
         "name": "Pay",
         "rawType": "int64",
         "type": "integer"
        },
        {
         "name": "Crypto",
         "rawType": "int64",
         "type": "integer"
        },
        {
         "name": "HasCopyrightInfo",
         "rawType": "int64",
         "type": "integer"
        },
        {
         "name": "NoOfImage",
         "rawType": "int64",
         "type": "integer"
        },
        {
         "name": "NoOfCSS",
         "rawType": "int64",
         "type": "integer"
        },
        {
         "name": "NoOfJS",
         "rawType": "int64",
         "type": "integer"
        },
        {
         "name": "NoOfSelfRef",
         "rawType": "int64",
         "type": "integer"
        },
        {
         "name": "NoOfEmptyRef",
         "rawType": "int64",
         "type": "integer"
        },
        {
         "name": "NoOfExternalRef",
         "rawType": "int64",
         "type": "integer"
        }
       ],
       "conversionMethod": "pd.DataFrame",
       "ref": "92256ff1-d390-43a4-a3f6-df7b04de70b8",
       "rows": [
        [
         "0",
         "https://www.southbankmosaics.com",
         "31",
         "www.southbankmosaics.com",
         "24",
         "0",
         "com",
         "100.0",
         "1.0",
         "0.5229071",
         "0.061933179",
         "3",
         "1",
         "0",
         "0",
         "0.0",
         "18",
         "0.581",
         "0",
         "0.0",
         "0",
         "0",
         "0",
         "1",
         "0.032",
         "1",
         "558",
         "9381",
         "1",
         "à¸‚à¹ˆà¸²à¸§à¸ªà¸” à¸‚à¹ˆà¸²à¸§à¸§à¸±à¸™à¸™à¸µà¹‰ à¸‚à¹ˆà¸²à¸§à¸à¸µà¸¬à¸² à¸‚à¹ˆà¸²à¸§à¸šà¸±à¸™à¹€à¸—à¸´à¸‡ à¸­à¸±à¸žà¹€à¸”à¸—à¸ªà¸”à¹ƒà¸«à¸¡à¹ˆà¸—à¸¸à¸à¸§à¸±à¸™ &#8211; à¸‚à¹ˆà¸²à¸§à¸ªà¸” à¸‚à¹ˆà¸²à¸§à¸à¸µà¸¬à¸² à¸‚à¹ˆà¸²à¸§à¸šà¸±à¸™à¹€à¸—à¸´à¸‡ à¸‚à¹ˆà¸²à¸§à¸§à¸±à¸™à¸™à¸µà¹‰ à¸­à¸±à¸›à¹€à¸”à¸•à¸‚à¹ˆà¸²à¸§à¸ªà¸²à¸£à¸£à¸§à¸”à¹€à¸£à¹‡à¸§à¸—à¸±à¸™à¹ƒà¸ˆ à¸žà¸£à¹‰à¸­à¸¡à¸£à¸±à¸šà¸Šà¸¡à¸ªà¸²à¸£à¸°à¸™à¹ˆà¸²à¸£à¸¹à¹‰à¸•à¹ˆà¸²à¸‡à¹† à¹„à¸”à¹‰à¸Ÿà¸£à¸µà¸•à¸¥à¸­à¸” 24à¸Šà¸±à¹ˆà¸§à¹‚à¸¡à¸‡",
         "0.0",
         "0.0",
         "0",
         "1",
         "1",
         "0",
         "0",
         "0",
         "0",
         "1",
         "0",
         "0",
         "1",
         "1",
         "0",
         "1",
         "0",
         "0",
         "1",
         "34",
         "20",
         "28",
         "119",
         "0",
         "124"
        ],
        [
         "1",
         "https://www.uni-mainz.de",
         "23",
         "www.uni-mainz.de",
         "16",
         "0",
         "de",
         "100.0",
         "0.666666667",
         "0.0326503",
         "0.050207214",
         "2",
         "1",
         "0",
         "0",
         "0.0",
         "9",
         "0.391",
         "0",
         "0.0",
         "0",
         "0",
         "0",
         "2",
         "0.087",
         "1",
         "618",
         "9381",
         "1",
         "johannes gutenberg-universitÃ¤t mainz",
         "55.55555556",
         "55.55555556",
         "1",
         "1",
         "0",
         "0",
         "0",
         "0",
         "0",
         "0",
         "0",
         "1",
         "1",
         "0",
         "0",
         "0",
         "0",
         "0",
         "1",
         "50",
         "9",
         "8",
         "39",
         "0",
         "217"
        ],
        [
         "2",
         "https://www.voicefmradio.co.uk",
         "29",
         "www.voicefmradio.co.uk",
         "22",
         "0",
         "uk",
         "100.0",
         "0.866666667",
         "0.028555",
         "0.06412872",
         "2",
         "2",
         "0",
         "0",
         "0.0",
         "15",
         "0.517",
         "0",
         "0.0",
         "0",
         "0",
         "0",
         "2",
         "0.069",
         "1",
         "467",
         "682",
         "1",
         "voice fm southampton",
         "46.66666667",
         "46.66666667",
         "0",
         "1",
         "1",
         "0",
         "0",
         "1",
         "0",
         "0",
         "0",
         "0",
         "1",
         "1",
         "0",
         "0",
         "0",
         "0",
         "1",
         "10",
         "2",
         "7",
         "42",
         "2",
         "5"
        ],
        [
         "3",
         "https://www.sfnmjournal.com",
         "26",
         "www.sfnmjournal.com",
         "19",
         "0",
         "com",
         "100.0",
         "1.0",
         "0.5229071",
         "0.057605756",
         "3",
         "1",
         "0",
         "0",
         "0.0",
         "13",
         "0.5",
         "0",
         "0.0",
         "0",
         "0",
         "0",
         "1",
         "0.038",
         "1",
         "6356",
         "26824",
         "1",
         "home page: seminars in fetal and neonatal medicine ",
         "0.0",
         "0.0",
         "0",
         "1",
         "1",
         "0",
         "0",
         "0",
         "1",
         "12",
         "0",
         "1",
         "1",
         "1",
         "0",
         "0",
         "1",
         "1",
         "1",
         "3",
         "27",
         "15",
         "22",
         "1",
         "31"
        ],
        [
         "4",
         "https://www.rewildingargentina.org",
         "33",
         "www.rewildingargentina.org",
         "26",
         "0",
         "org",
         "100.0",
         "1.0",
         "0.0799628",
         "0.059441389",
         "3",
         "1",
         "0",
         "0",
         "0.0",
         "20",
         "0.606",
         "0",
         "0.0",
         "0",
         "0",
         "0",
         "1",
         "0.03",
         "1",
         "6089",
         "28404",
         "1",
         "fundaciÃ³n rewilding argentina",
         "100.0",
         "100.0",
         "0",
         "1",
         "1",
         "1",
         "1",
         "1",
         "0",
         "2",
         "0",
         "1",
         "1",
         "1",
         "0",
         "1",
         "1",
         "0",
         "1",
         "244",
         "15",
         "34",
         "72",
         "1",
         "85"
        ]
       ],
       "shape": {
        "columns": 54,
        "rows": 5
       }
      },
      "text/html": [
       "<div>\n",
       "<style scoped>\n",
       "    .dataframe tbody tr th:only-of-type {\n",
       "        vertical-align: middle;\n",
       "    }\n",
       "\n",
       "    .dataframe tbody tr th {\n",
       "        vertical-align: top;\n",
       "    }\n",
       "\n",
       "    .dataframe thead th {\n",
       "        text-align: right;\n",
       "    }\n",
       "</style>\n",
       "<table border=\"1\" class=\"dataframe\">\n",
       "  <thead>\n",
       "    <tr style=\"text-align: right;\">\n",
       "      <th></th>\n",
       "      <th>URL</th>\n",
       "      <th>URLLength</th>\n",
       "      <th>Domain</th>\n",
       "      <th>DomainLength</th>\n",
       "      <th>IsDomainIP</th>\n",
       "      <th>TLD</th>\n",
       "      <th>URLSimilarityIndex</th>\n",
       "      <th>CharContinuationRate</th>\n",
       "      <th>TLDLegitimateProb</th>\n",
       "      <th>URLCharProb</th>\n",
       "      <th>...</th>\n",
       "      <th>Bank</th>\n",
       "      <th>Pay</th>\n",
       "      <th>Crypto</th>\n",
       "      <th>HasCopyrightInfo</th>\n",
       "      <th>NoOfImage</th>\n",
       "      <th>NoOfCSS</th>\n",
       "      <th>NoOfJS</th>\n",
       "      <th>NoOfSelfRef</th>\n",
       "      <th>NoOfEmptyRef</th>\n",
       "      <th>NoOfExternalRef</th>\n",
       "    </tr>\n",
       "  </thead>\n",
       "  <tbody>\n",
       "    <tr>\n",
       "      <th>0</th>\n",
       "      <td>https://www.southbankmosaics.com</td>\n",
       "      <td>31</td>\n",
       "      <td>www.southbankmosaics.com</td>\n",
       "      <td>24</td>\n",
       "      <td>0</td>\n",
       "      <td>com</td>\n",
       "      <td>100.0</td>\n",
       "      <td>1.000000</td>\n",
       "      <td>0.522907</td>\n",
       "      <td>0.061933</td>\n",
       "      <td>...</td>\n",
       "      <td>1</td>\n",
       "      <td>0</td>\n",
       "      <td>0</td>\n",
       "      <td>1</td>\n",
       "      <td>34</td>\n",
       "      <td>20</td>\n",
       "      <td>28</td>\n",
       "      <td>119</td>\n",
       "      <td>0</td>\n",
       "      <td>124</td>\n",
       "    </tr>\n",
       "    <tr>\n",
       "      <th>1</th>\n",
       "      <td>https://www.uni-mainz.de</td>\n",
       "      <td>23</td>\n",
       "      <td>www.uni-mainz.de</td>\n",
       "      <td>16</td>\n",
       "      <td>0</td>\n",
       "      <td>de</td>\n",
       "      <td>100.0</td>\n",
       "      <td>0.666667</td>\n",
       "      <td>0.032650</td>\n",
       "      <td>0.050207</td>\n",
       "      <td>...</td>\n",
       "      <td>0</td>\n",
       "      <td>0</td>\n",
       "      <td>0</td>\n",
       "      <td>1</td>\n",
       "      <td>50</td>\n",
       "      <td>9</td>\n",
       "      <td>8</td>\n",
       "      <td>39</td>\n",
       "      <td>0</td>\n",
       "      <td>217</td>\n",
       "    </tr>\n",
       "    <tr>\n",
       "      <th>2</th>\n",
       "      <td>https://www.voicefmradio.co.uk</td>\n",
       "      <td>29</td>\n",
       "      <td>www.voicefmradio.co.uk</td>\n",
       "      <td>22</td>\n",
       "      <td>0</td>\n",
       "      <td>uk</td>\n",
       "      <td>100.0</td>\n",
       "      <td>0.866667</td>\n",
       "      <td>0.028555</td>\n",
       "      <td>0.064129</td>\n",
       "      <td>...</td>\n",
       "      <td>0</td>\n",
       "      <td>0</td>\n",
       "      <td>0</td>\n",
       "      <td>1</td>\n",
       "      <td>10</td>\n",
       "      <td>2</td>\n",
       "      <td>7</td>\n",
       "      <td>42</td>\n",
       "      <td>2</td>\n",
       "      <td>5</td>\n",
       "    </tr>\n",
       "    <tr>\n",
       "      <th>3</th>\n",
       "      <td>https://www.sfnmjournal.com</td>\n",
       "      <td>26</td>\n",
       "      <td>www.sfnmjournal.com</td>\n",
       "      <td>19</td>\n",
       "      <td>0</td>\n",
       "      <td>com</td>\n",
       "      <td>100.0</td>\n",
       "      <td>1.000000</td>\n",
       "      <td>0.522907</td>\n",
       "      <td>0.057606</td>\n",
       "      <td>...</td>\n",
       "      <td>0</td>\n",
       "      <td>1</td>\n",
       "      <td>1</td>\n",
       "      <td>1</td>\n",
       "      <td>3</td>\n",
       "      <td>27</td>\n",
       "      <td>15</td>\n",
       "      <td>22</td>\n",
       "      <td>1</td>\n",
       "      <td>31</td>\n",
       "    </tr>\n",
       "    <tr>\n",
       "      <th>4</th>\n",
       "      <td>https://www.rewildingargentina.org</td>\n",
       "      <td>33</td>\n",
       "      <td>www.rewildingargentina.org</td>\n",
       "      <td>26</td>\n",
       "      <td>0</td>\n",
       "      <td>org</td>\n",
       "      <td>100.0</td>\n",
       "      <td>1.000000</td>\n",
       "      <td>0.079963</td>\n",
       "      <td>0.059441</td>\n",
       "      <td>...</td>\n",
       "      <td>1</td>\n",
       "      <td>1</td>\n",
       "      <td>0</td>\n",
       "      <td>1</td>\n",
       "      <td>244</td>\n",
       "      <td>15</td>\n",
       "      <td>34</td>\n",
       "      <td>72</td>\n",
       "      <td>1</td>\n",
       "      <td>85</td>\n",
       "    </tr>\n",
       "  </tbody>\n",
       "</table>\n",
       "<p>5 rows × 54 columns</p>\n",
       "</div>"
      ],
      "text/plain": [
       "                                  URL  URLLength                      Domain  \\\n",
       "0    https://www.southbankmosaics.com         31    www.southbankmosaics.com   \n",
       "1            https://www.uni-mainz.de         23            www.uni-mainz.de   \n",
       "2      https://www.voicefmradio.co.uk         29      www.voicefmradio.co.uk   \n",
       "3         https://www.sfnmjournal.com         26         www.sfnmjournal.com   \n",
       "4  https://www.rewildingargentina.org         33  www.rewildingargentina.org   \n",
       "\n",
       "   DomainLength  IsDomainIP  TLD  URLSimilarityIndex  CharContinuationRate  \\\n",
       "0            24           0  com               100.0              1.000000   \n",
       "1            16           0   de               100.0              0.666667   \n",
       "2            22           0   uk               100.0              0.866667   \n",
       "3            19           0  com               100.0              1.000000   \n",
       "4            26           0  org               100.0              1.000000   \n",
       "\n",
       "   TLDLegitimateProb  URLCharProb  ...  Bank  Pay  Crypto  HasCopyrightInfo  \\\n",
       "0           0.522907     0.061933  ...     1    0       0                 1   \n",
       "1           0.032650     0.050207  ...     0    0       0                 1   \n",
       "2           0.028555     0.064129  ...     0    0       0                 1   \n",
       "3           0.522907     0.057606  ...     0    1       1                 1   \n",
       "4           0.079963     0.059441  ...     1    1       0                 1   \n",
       "\n",
       "   NoOfImage  NoOfCSS  NoOfJS  NoOfSelfRef  NoOfEmptyRef  NoOfExternalRef  \n",
       "0         34       20      28          119             0              124  \n",
       "1         50        9       8           39             0              217  \n",
       "2         10        2       7           42             2                5  \n",
       "3          3       27      15           22             1               31  \n",
       "4        244       15      34           72             1               85  \n",
       "\n",
       "[5 rows x 54 columns]"
      ]
     },
     "execution_count": 36,
     "metadata": {},
     "output_type": "execute_result"
    }
   ],
   "source": [
    "X1.head()"
   ]
  },
  {
   "cell_type": "markdown",
   "id": "84a3a8d4",
   "metadata": {},
   "source": [
    "## From dataset (page 11 of paper) :\n",
    "5.3. Dataset validation\n",
    "- URL verification: All the URLs in the dataset are collected from\n",
    "valid sources and included in the dataset for verification.\n",
    "- Null value: There is no null value in the dataset.\n",
    "- Missing value: There is no missing value in the dataset.\n",
    "- Duplicate records: All the records in the dataset are unique.\n",
    "- Zero variance feature: There is no feature in the dataset with identical data values.\n",
    "- Infinite values: There is no positive or negative infinite value in the\n",
    "dataset.\n",
    "- Class imbalance: The dataset has 57% legitimate URLs and 43%\n",
    "phishing URLs that do not indicate a disproportionate distribution of\n",
    "class labels\n"
   ]
  },
  {
   "cell_type": "markdown",
   "id": "805d1c38",
   "metadata": {},
   "source": [
    "### Verifying the data "
   ]
  },
  {
   "cell_type": "code",
   "execution_count": 40,
   "id": "ce23f9cc",
   "metadata": {},
   "outputs": [
    {
     "name": "stdout",
     "output_type": "stream",
     "text": [
      "Null values in X1: 0\n",
      "Duplicate records in X1: 0\n",
      "Zero variance features in X1: 0 \n",
      "Class distribution in y1:\n",
      "label\n",
      "1    0.571895\n",
      "0    0.428105\n",
      "Name: proportion, dtype: float64\n"
     ]
    }
   ],
   "source": [
    "# Check for null values\n",
    "null_values_X1 = X1.isnull().sum().sum()\n",
    "\n",
    "# Check for duplicate records\n",
    "duplicates_X1 = X1.duplicated().sum()\n",
    "\n",
    "# Check for zero variance features\n",
    "zero_variance_X1 = (X1.nunique() == 1).sum()\n",
    "\n",
    "# Check for class imbalance\n",
    "class_distribution_y1 = y1['label'].value_counts(normalize=True)\n",
    "\n",
    "# Print results\n",
    "print(f\"Null values in X1: {null_values_X1}\")\n",
    "print(f\"Duplicate records in X1: {duplicates_X1}\")\n",
    "print(f\"Zero variance features in X1: {zero_variance_X1 * 100} \")\n",
    "print(f\"Class distribution in y1:\\n{class_distribution_y1}\")\n"
   ]
  },
  {
   "cell_type": "markdown",
   "id": "2656e54c",
   "metadata": {},
   "source": [
    "## *Note:*\n",
    "The dataset has undergone significant preprocessing to extract meaningful features from raw data, such as the `Domain` column. Instead of using the domain as a single raw string, it has been split into various derived features to provide a more granular representation. For example:\n",
    "\n",
    "1. **`NoOfSubDomain`**: Represents the number of subdomains in the URL, derived from the structure of the domain.\n",
    "2. **`NoOfObfuscatedChar`**: Counts the number of obfuscated characters in the domain, which can indicate phishing attempts.\n",
    "3. **`IsHTTPS`**: Indicates whether the URL uses HTTPS, a feature derived from the protocol in the URL.\n",
    "4. **`NoOfDegitsInURL`**: Counts the number of digits in the URL, which can be a sign of obfuscation or phishing.\n",
    "5. **`NoOfEqualsInURL`, `NoOfQMarkInURL`, `NoOfAmpersandInURL`**: Count the occurrences of specific special characters (`=`, `?`, `&`) in the URL, which are often used in query strings or obfuscation.\n",
    "\n",
    "These derived features provide a structured and standardized representation of the domain, making it easier for machine learning models to identify patterns and detect phishing attempts.  \n",
    "\n",
    "Similarly, **`TLD`** is used to create TLDLegitimateProb, which creates a ratio of it's frequency comparing 10 milltions websites where higher TLDLegitimateProb of a URL may indicate a legitimate URL, and a lower TLDLegitimateProb value may help identify phishing URLs\n",
    "\n",
    "------------------\n",
    "\n",
    "However, for  **`Title`**, I believe more useful information can be extracted. \n",
    "\n",
    "Currently the dataset creates *URLTitleMatchScore* from **`Title`** to identify the discrepancy between the URL and\n",
    "the webpage title, where a lower score means the \n",
    "A lower score can be a sign that the website is a webpage title does not match the content, and vice versa. \n",
    "\n",
    "\n",
    "\n",
    "**However, they fail to assess other characteristics.**\n",
    "\n",
    "\n"
   ]
  },
  {
   "cell_type": "markdown",
   "id": "3df9277d",
   "metadata": {},
   "source": [
    "## Extra Encoding/Pre-processing Steps for Feature **`Title`**\n",
    "\n",
    "#### The code below adds new derived features using Sentiment Analysis, POS Tag Counts and Word Embedding Averages"
   ]
  },
  {
   "cell_type": "code",
   "execution_count": null,
   "id": "9f79fd7f",
   "metadata": {},
   "outputs": [],
   "source": []
  },
  {
   "cell_type": "markdown",
   "id": "97403dee",
   "metadata": {},
   "source": [
    "# Implementation 1 #\n",
    "### Using All Features on Randon Forest Classifier"
   ]
  },
  {
   "cell_type": "code",
   "execution_count": 42,
   "id": "c7739f67",
   "metadata": {},
   "outputs": [
    {
     "name": "stdout",
     "output_type": "stream",
     "text": [
      "Number of unique domains: 220086\n",
      "Number of unique TLDs: 695\n"
     ]
    }
   ],
   "source": [
    "# Checking number of unique Domain and TLD values  \n",
    "unique_domains = X1['Domain'].nunique()\n",
    "unique_tlds = X1['TLD'].nunique()\n",
    "print(f\"Number of unique domains: {unique_domains}\")\n",
    "print(f\"Number of unique TLDs: {unique_tlds}\")\n"
   ]
  }
 ],
 "metadata": {
  "kernelspec": {
   "display_name": "DS_Env",
   "language": "python",
   "name": "python3"
  },
  "language_info": {
   "codemirror_mode": {
    "name": "ipython",
    "version": 3
   },
   "file_extension": ".py",
   "mimetype": "text/x-python",
   "name": "python",
   "nbconvert_exporter": "python",
   "pygments_lexer": "ipython3",
   "version": "3.11.8"
  }
 },
 "nbformat": 4,
 "nbformat_minor": 5
}
